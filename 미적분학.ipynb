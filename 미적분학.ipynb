{
  "nbformat": 4,
  "nbformat_minor": 0,
  "metadata": {
    "colab": {
      "provenance": [],
      "authorship_tag": "ABX9TyPvS8Q4u6phjB/V6PeTmPs2",
      "include_colab_link": true
    },
    "kernelspec": {
      "name": "python3",
      "display_name": "Python 3"
    },
    "language_info": {
      "name": "python"
    }
  },
  "cells": [
    {
      "cell_type": "markdown",
      "metadata": {
        "id": "view-in-github",
        "colab_type": "text"
      },
      "source": [
        "<a href=\"https://colab.research.google.com/github/lejy/localpython/blob/main/%EB%AF%B8%EC%A0%81%EB%B6%84%ED%95%99.ipynb\" target=\"_parent\"><img src=\"https://colab.research.google.com/assets/colab-badge.svg\" alt=\"Open In Colab\"/></a>"
      ]
    },
    {
      "cell_type": "code",
      "execution_count": null,
      "metadata": {
        "id": "qoE27vWs3qfL",
        "colab": {
          "base_uri": "https://localhost:8080/"
        },
        "outputId": "8a17c6b0-081e-415a-a382-780f2645f3b4"
      },
      "outputs": [
        {
          "output_type": "stream",
          "name": "stdout",
          "text": [
            "3.141592653589793\n",
            "0.7071067811865476\n"
          ]
        }
      ],
      "source": [
        "import numpy as np\n",
        "import math\n",
        "\n",
        "print(math.pi)\n",
        "print(math.cos(math.pi/4))"
      ]
    },
    {
      "cell_type": "code",
      "source": [
        "print('\"안녕\"')"
      ],
      "metadata": {
        "colab": {
          "base_uri": "https://localhost:8080/"
        },
        "id": "YoJBye8x9FQV",
        "outputId": "fd3718c1-8282-4eda-f415-6dae78dead80"
      },
      "execution_count": null,
      "outputs": [
        {
          "output_type": "stream",
          "name": "stdout",
          "text": [
            "\"안녕\"\n"
          ]
        }
      ]
    },
    {
      "cell_type": "code",
      "source": [
        "print(\"10과 20을 합한 값은\",10+20,\"입니다\")"
      ],
      "metadata": {
        "colab": {
          "base_uri": "https://localhost:8080/"
        },
        "id": "Je2JM0S8J4tT",
        "outputId": "93ca9243-a988-4deb-8ae6-6542311b894e"
      },
      "execution_count": null,
      "outputs": [
        {
          "output_type": "stream",
          "name": "stdout",
          "text": [
            "10과 20을 합한 값은 30 입니다\n"
          ]
        }
      ]
    },
    {
      "cell_type": "code",
      "source": [
        "print(math.sin(math.pi/6)+math.tan(math.pi/4))"
      ],
      "metadata": {
        "colab": {
          "base_uri": "https://localhost:8080/"
        },
        "id": "PHUqDBrONaJr",
        "outputId": "2221d9d6-fe5b-4cf6-b491-12638671e619"
      },
      "execution_count": null,
      "outputs": [
        {
          "output_type": "stream",
          "name": "stdout",
          "text": [
            "1.4999999999999998\n"
          ]
        }
      ]
    },
    {
      "cell_type": "code",
      "source": [
        "d = [[11,22,33],[44,55,66]]\n",
        "print(d[1][1])\n",
        "print(d[1][2])"
      ],
      "metadata": {
        "colab": {
          "base_uri": "https://localhost:8080/"
        },
        "id": "JbyGW8yTWpr6",
        "outputId": "ccb200dd-39d8-4042-bb26-37c7bdc2aaf2"
      },
      "execution_count": null,
      "outputs": [
        {
          "output_type": "stream",
          "name": "stdout",
          "text": [
            "55\n",
            "66\n"
          ]
        }
      ]
    },
    {
      "cell_type": "code",
      "source": [
        "print(\"안녕하세요\"[1])\n",
        "print(\"안녕하세요\"[2])\n",
        "print(\"안녕하세요\"[0:2])"
      ],
      "metadata": {
        "colab": {
          "base_uri": "https://localhost:8080/"
        },
        "id": "yRp2Y6vtYWsa",
        "outputId": "a7d8fc1a-0c43-4c13-bd4a-4feed63664f4"
      },
      "execution_count": null,
      "outputs": [
        {
          "output_type": "stream",
          "name": "stdout",
          "text": [
            "녕\n",
            "하\n",
            "안녕\n"
          ]
        }
      ]
    },
    {
      "cell_type": "code",
      "source": [
        "n = int(input(\"수를 입력:\"))\n",
        "if(n%5 == 0):\n",
        "  print(\"5의 배수\")\n",
        "elif(n%7==0):\n",
        "  print(\"7의 배수\")\n",
        "else:\n",
        "  print(\"5, 7의 배수도 아니다\")"
      ],
      "metadata": {
        "id": "w5rHmWsr-mIl"
      },
      "execution_count": null,
      "outputs": []
    },
    {
      "cell_type": "code",
      "source": [
        "x =int(input())\n",
        "y = x*2\n",
        "print(\"y는:\",y)"
      ],
      "metadata": {
        "colab": {
          "base_uri": "https://localhost:8080/"
        },
        "id": "_fC0vGLHBsns",
        "outputId": "334f5bbf-c6cc-49a2-9c3d-77d00daa6e19"
      },
      "execution_count": null,
      "outputs": [
        {
          "output_type": "stream",
          "name": "stdout",
          "text": [
            "34\n",
            "y는: 68\n"
          ]
        }
      ]
    },
    {
      "cell_type": "code",
      "source": [
        "id = int(input(\"당신의 학번(3자리수):\"))\n",
        "clas = id%100\n",
        "if(0<=clas<36):\n",
        "  print(\"1분반\")\n",
        "elif(36<=clas<81):\n",
        "  print(\"2분반\")\n",
        "else:\n",
        "  print(\"3분반\")"
      ],
      "metadata": {
        "id": "FIEiG90eDZnE"
      },
      "execution_count": null,
      "outputs": []
    },
    {
      "cell_type": "code",
      "source": [
        "h = int(input(\"키:\"))*1/100\n",
        "w = int(input(\"몸무게:\"))\n",
        "bmi = w/(h*h)\n",
        "print(bmi)\n",
        "if(bmi<=18.5):\n",
        "  print(\"저체중\")\n",
        "elif(18.5<bmi<=23):\n",
        "  print(\"정상\")\n",
        "elif(23<bmi<=25):\n",
        "  print(\"과체중\")\n",
        "elif(25<bmi<=30):\n",
        "  print(\"비만\")\n",
        "else:\n",
        "  print(\"고도비만\")"
      ],
      "metadata": {
        "id": "wgI88ka5FzL8"
      },
      "execution_count": null,
      "outputs": []
    },
    {
      "cell_type": "code",
      "source": [
        "n = int(input(\"입력:\"))\n",
        "i = 0\n",
        "sum = 0\n",
        "while i < n:\n",
        "  i = i+1\n",
        "  sum += i\n",
        "  print(sum)\n",
        "print(sum)"
      ],
      "metadata": {
        "id": "QFt37UOiO7vM"
      },
      "execution_count": null,
      "outputs": []
    },
    {
      "cell_type": "code",
      "source": [
        "floor = int(input(\"가고자 하는 층수를 입력: \"))\n",
        "now = 5\n",
        "print(\"현재 엘리베이터는\",now,\"층 입니다.\")\n",
        "\n",
        "while (now != floor):\n",
        "  if(floor>now):\n",
        "    now += 1\n",
        "    print(now,\"층 입니다.\")\n",
        "  else:\n",
        "    now -= 1\n",
        "    print(now,\"층 입니다.\")\n"
      ],
      "metadata": {
        "colab": {
          "base_uri": "https://localhost:8080/"
        },
        "id": "LC77copDQ4a7",
        "outputId": "7dfc42e4-380c-4b63-e3db-4cea543bb7e2"
      },
      "execution_count": null,
      "outputs": [
        {
          "output_type": "stream",
          "name": "stdout",
          "text": [
            "가고자 하는 층수를 입력: 1\n",
            "현재 엘리베이터는 5 층 입니다.\n",
            "4 층 입니다.\n",
            "3 층 입니다.\n",
            "2 층 입니다.\n",
            "1 층 입니다.\n"
          ]
        }
      ]
    },
    {
      "cell_type": "code",
      "source": [
        "def get_max(x,y,z):\n",
        "  a = [x,y,z]\n",
        "  return max(a)\n",
        "\n",
        "get_max(32,10,87)"
      ],
      "metadata": {
        "colab": {
          "base_uri": "https://localhost:8080/",
          "height": 176
        },
        "id": "ZXyMifWtROfz",
        "outputId": "a96eb1ec-6c27-4ba5-c124-894304a7a900"
      },
      "execution_count": null,
      "outputs": [
        {
          "output_type": "error",
          "ename": "NameError",
          "evalue": "name 'a' is not defined",
          "traceback": [
            "\u001b[0;31m---------------------------------------------------------------------------\u001b[0m",
            "\u001b[0;31mNameError\u001b[0m                                 Traceback (most recent call last)",
            "\u001b[0;32m<ipython-input-89-07b8b80e5f3c>\u001b[0m in \u001b[0;36m<cell line: 7>\u001b[0;34m()\u001b[0m\n\u001b[1;32m      5\u001b[0m \u001b[0mget_max\u001b[0m\u001b[0;34m(\u001b[0m\u001b[0;36m32\u001b[0m\u001b[0;34m,\u001b[0m\u001b[0;36m10\u001b[0m\u001b[0;34m,\u001b[0m\u001b[0;36m87\u001b[0m\u001b[0;34m)\u001b[0m\u001b[0;34m\u001b[0m\u001b[0;34m\u001b[0m\u001b[0m\n\u001b[1;32m      6\u001b[0m \u001b[0;34m\u001b[0m\u001b[0m\n\u001b[0;32m----> 7\u001b[0;31m \u001b[0mtype\u001b[0m\u001b[0;34m(\u001b[0m\u001b[0ma\u001b[0m\u001b[0;34m)\u001b[0m\u001b[0;34m\u001b[0m\u001b[0;34m\u001b[0m\u001b[0m\n\u001b[0m",
            "\u001b[0;31mNameError\u001b[0m: name 'a' is not defined"
          ]
        }
      ]
    },
    {
      "cell_type": "code",
      "source": [
        "import numpy as np\n",
        "a = np.array([[1,2,3],[3,4,5]])\n",
        "b = [1,2,3]\n",
        "\n",
        "b.append(3)\n",
        "print(type(a))\n",
        "print(len(b))"
      ],
      "metadata": {
        "colab": {
          "base_uri": "https://localhost:8080/"
        },
        "id": "d0kzNF7UVnxb",
        "outputId": "01dec57c-4d8c-423b-9739-26ee379bc887"
      },
      "execution_count": null,
      "outputs": [
        {
          "output_type": "stream",
          "name": "stdout",
          "text": [
            "<class 'numpy.ndarray'>\n",
            "4\n"
          ]
        }
      ]
    },
    {
      "cell_type": "code",
      "source": [
        "import matplotlib.pyplot as plt\n",
        "\n",
        "x = [1,2,3],[9,8,7]\n",
        "y = [4,5,6],[6,7,8]\n",
        "\n",
        "plt.plot(x,y, marker=\"x\")\n",
        "plt.show()"
      ],
      "metadata": {
        "colab": {
          "base_uri": "https://localhost:8080/",
          "height": 430
        },
        "id": "kRnq_z4fYc7z",
        "outputId": "a9661e7a-9b6f-412f-95dd-12c8374d904f"
      },
      "execution_count": null,
      "outputs": [
        {
          "output_type": "display_data",
          "data": {
            "text/plain": [
              "<Figure size 640x480 with 1 Axes>"
            ],
            "image/png": "[encoded data removed]"
          },
          "metadata": {}
        }
      ]
    },
    {
      "cell_type": "code",
      "source": [
        "import numpy as np\n",
        "import matplotlib.pyplot as plt\n",
        "\n",
        "x = np.array([150,160,170,180])\n",
        "y = np.array([70,68,90,80])\n",
        "\n",
        "plt.plot_wireframe(x,y, color = \"r\" )\n",
        "plt.show()"
      ],
      "metadata": {
        "colab": {
          "base_uri": "https://localhost:8080/",
          "height": 193
        },
        "id": "ga7WRYrKZLpD",
        "outputId": "d7ff52ea-256d-4a50-ff2c-a0cab02ac385"
      },
      "execution_count": null,
      "outputs": [
        {
          "output_type": "error",
          "ename": "AttributeError",
          "evalue": "module 'matplotlib.pyplot' has no attribute 'plot_wireframe'",
          "traceback": [
            "\u001b[0;31m---------------------------------------------------------------------------\u001b[0m",
            "\u001b[0;31mAttributeError\u001b[0m                            Traceback (most recent call last)",
            "\u001b[0;32m<ipython-input-131-7d0ba09d4ecf>\u001b[0m in \u001b[0;36m<cell line: 7>\u001b[0;34m()\u001b[0m\n\u001b[1;32m      5\u001b[0m \u001b[0my\u001b[0m \u001b[0;34m=\u001b[0m \u001b[0mnp\u001b[0m\u001b[0;34m.\u001b[0m\u001b[0marray\u001b[0m\u001b[0;34m(\u001b[0m\u001b[0;34m[\u001b[0m\u001b[0;36m70\u001b[0m\u001b[0;34m,\u001b[0m\u001b[0;36m68\u001b[0m\u001b[0;34m,\u001b[0m\u001b[0;36m90\u001b[0m\u001b[0;34m,\u001b[0m\u001b[0;36m80\u001b[0m\u001b[0;34m]\u001b[0m\u001b[0;34m)\u001b[0m\u001b[0;34m\u001b[0m\u001b[0;34m\u001b[0m\u001b[0m\n\u001b[1;32m      6\u001b[0m \u001b[0;34m\u001b[0m\u001b[0m\n\u001b[0;32m----> 7\u001b[0;31m \u001b[0mplt\u001b[0m\u001b[0;34m.\u001b[0m\u001b[0mplot_wireframe\u001b[0m\u001b[0;34m(\u001b[0m\u001b[0mx\u001b[0m\u001b[0;34m,\u001b[0m\u001b[0my\u001b[0m\u001b[0;34m,\u001b[0m \u001b[0mcolor\u001b[0m \u001b[0;34m=\u001b[0m \u001b[0;34m\"r\"\u001b[0m \u001b[0;34m)\u001b[0m\u001b[0;34m\u001b[0m\u001b[0;34m\u001b[0m\u001b[0m\n\u001b[0m\u001b[1;32m      8\u001b[0m \u001b[0mplt\u001b[0m\u001b[0;34m.\u001b[0m\u001b[0mshow\u001b[0m\u001b[0;34m(\u001b[0m\u001b[0;34m)\u001b[0m\u001b[0;34m\u001b[0m\u001b[0;34m\u001b[0m\u001b[0m\n",
            "\u001b[0;31mAttributeError\u001b[0m: module 'matplotlib.pyplot' has no attribute 'plot_wireframe'"
          ]
        }
      ]
    },
    {
      "cell_type": "code",
      "source": [
        "import sympy as sym\n",
        "n = sym.Symbol('n')\n",
        "a = sym.limit((n+8)*(n+1)/(n*(n+1)),n,sym.oo)\n",
        "print(a)"
      ],
      "metadata": {
        "colab": {
          "base_uri": "https://localhost:8080/"
        },
        "id": "Q4mqwwe0ZnDe",
        "outputId": "0c633734-522a-4c94-b55c-1bf78a025032"
      },
      "execution_count": null,
      "outputs": [
        {
          "output_type": "stream",
          "name": "stdout",
          "text": [
            "1\n"
          ]
        }
      ]
    },
    {
      "cell_type": "code",
      "source": [
        "#(x^3+7)/x-1/x x -> oo 극한값\n",
        "import sympy as sym\n",
        "x = sym.Symbol('x')\n",
        "fx = (x**3+7)/(x-1/x)\n",
        "a = sym.limit(fx,x,sym.oo)\n",
        "print(a)"
      ],
      "metadata": {
        "colab": {
          "base_uri": "https://localhost:8080/"
        },
        "id": "l9oXx4mHal9H",
        "outputId": "e111dd33-b8aa-4f97-81f2-5c8eec61ce44"
      },
      "execution_count": null,
      "outputs": [
        {
          "output_type": "stream",
          "name": "stdout",
          "text": [
            "oo\n"
          ]
        }
      ]
    },
    {
      "cell_type": "code",
      "source": [
        "#x * sin(1/x) x-->0 의 극한값\n",
        "import sympy as sym\n",
        "x = sym.Symbol('x')\n",
        "fx = (x*sym.sin(1/x))\n",
        "a = sym.limit(fx, x ,0)\n",
        "print(a)"
      ],
      "metadata": {
        "colab": {
          "base_uri": "https://localhost:8080/"
        },
        "id": "RNPJu6xaa6Is",
        "outputId": "a00b3612-ff6d-4710-c673-577cbc32a316"
      },
      "execution_count": null,
      "outputs": [
        {
          "output_type": "stream",
          "name": "stdout",
          "text": [
            "0\n"
          ]
        }
      ]
    },
    {
      "cell_type": "code",
      "source": [
        "from sympy import Derivative, symbols\n",
        "x = symbols('x')\n",
        "fx = -3*x ** 2 + x - 1\n",
        "fprime = Derivative(fx,x)\n",
        "print(\"fx의 도함수는 : \", fprime, \"입니다\")\n",
        "n = fprime.doit().subs({x:1})\n",
        "print(\"fx에서 x = 1 에서 미분계수는 \",n,\"입니다\")"
      ],
      "metadata": {
        "colab": {
          "base_uri": "https://localhost:8080/"
        },
        "id": "y-41w7X0ehhV",
        "outputId": "03e3b3c4-25f9-41eb-c605-d6dd53b0ed68"
      },
      "execution_count": null,
      "outputs": [
        {
          "output_type": "stream",
          "name": "stdout",
          "text": [
            "fx의 도함수는 :  Derivative(-3*x**2 + x - 1, x) 입니다\n",
            "fx에서 x = 1 에서 미분계수는  -5 입니다\n"
          ]
        }
      ]
    },
    {
      "cell_type": "code",
      "source": [
        "import sympy as sp\n",
        "x = sp.Symbol('x')\n",
        "fnc=((x**3+2*x)*sp.cos(x+1)+sp.sin(x**2+7))\n",
        "sp.diff(fnc)"
      ],
      "metadata": {
        "colab": {
          "base_uri": "https://localhost:8080/",
          "height": 38
        },
        "id": "aAB7Q1yjjv7e",
        "outputId": "6f5f3793-849c-4a8d-c1a3-0a488c6c5b98"
      },
      "execution_count": null,
      "outputs": [
        {
          "output_type": "execute_result",
          "data": {
            "text/plain": [
              "2*x*cos(x**2 + 7) + (3*x**2 + 2)*cos(x + 1) - (x**3 + 2*x)*sin(x + 1)"
            ],
            "text/latex": "$\\displaystyle 2 x \\cos{\\left(x^{2} + 7 \\right)} + \\left(3 x^{2} + 2\\right) \\cos{\\left(x + 1 \\right)} - \\left(x^{3} + 2 x\\right) \\sin{\\left(x + 1 \\right)}$"
          },
          "metadata": {},
          "execution_count": 21
        }
      ]
    },
    {
      "cell_type": "code",
      "source": [
        "import sympy as sp\n",
        "x = sp.Symbol('x')\n",
        "fnc = (x-3)**4\n",
        "dfdx = sp.diff(fnc,x)\n",
        "ret = dfdx.subs({x:2})\n",
        "print(ret)"
      ],
      "metadata": {
        "colab": {
          "base_uri": "https://localhost:8080/"
        },
        "id": "iWP7NRxMj-7A",
        "outputId": "5747ac30-ae06-453b-ff54-f8d69f765058"
      },
      "execution_count": null,
      "outputs": [
        {
          "output_type": "stream",
          "name": "stdout",
          "text": [
            "-4\n"
          ]
        }
      ]
    },
    {
      "cell_type": "markdown",
      "source": [
        "# 파이썬 코테\n"
      ],
      "metadata": {
        "id": "ebqCOhahIkpV"
      }
    },
    {
      "cell_type": "code",
      "source": [
        "i = 0\n",
        "while(i<=100):\n",
        "  if(i%8==0):\n",
        "    if(i%12!=0):\n",
        "      print(i)\n",
        "  i = i+1"
      ],
      "metadata": {
        "colab": {
          "base_uri": "https://localhost:8080/"
        },
        "id": "z36YIW70IqPk",
        "outputId": "cb09239a-b3c7-4a6c-ed0f-a0755c94c328"
      },
      "execution_count": null,
      "outputs": [
        {
          "output_type": "stream",
          "name": "stdout",
          "text": [
            "8\n",
            "16\n",
            "32\n",
            "40\n",
            "56\n",
            "64\n",
            "80\n",
            "88\n"
          ]
        }
      ]
    },
    {
      "cell_type": "code",
      "source": [
        "i = 0\n",
        "sum = 0\n",
        "while(i<=1000):\n",
        "  if(i%2==0 or i%3==0):\n",
        "    sum += i\n",
        "  i += 1\n",
        "\n",
        "print(sum)"
      ],
      "metadata": {
        "colab": {
          "base_uri": "https://localhost:8080/"
        },
        "id": "H9NTGjC4JRMs",
        "outputId": "4e4b1a42-f51d-4987-9f00-d1397191a8c1"
      },
      "execution_count": null,
      "outputs": [
        {
          "output_type": "stream",
          "name": "stdout",
          "text": [
            "334167\n"
          ]
        }
      ]
    },
    {
      "cell_type": "code",
      "source": [
        "a = []\n",
        "for i in range(1,121):\n",
        "  if(120%i==0):\n",
        "    a.append(i)\n",
        "print(a)\n",
        "print(\"%d의 약수의 개수는 %s 개 입니다.\" % (120, len(a)))"
      ],
      "metadata": {
        "colab": {
          "base_uri": "https://localhost:8080/"
        },
        "id": "Rv6gy0HAJq5k",
        "outputId": "899a9772-f678-4824-a15a-2b7af8d7fbe6"
      },
      "execution_count": null,
      "outputs": [
        {
          "output_type": "stream",
          "name": "stdout",
          "text": [
            "[1, 2, 3, 4, 5, 6, 8, 10, 12, 15, 20, 24, 30, 40, 60, 120]\n",
            "120의 약수의 개수는 16 개 입니다.\n"
          ]
        }
      ]
    },
    {
      "cell_type": "code",
      "source": [
        "fund = 50000000\n",
        "year = 1\n",
        "pro = 1100000000\n",
        "bank = fund\n",
        "while(year <= 28):\n",
        "  bank += bank * 0.12\n",
        "  year += 1\n",
        "\n",
        "print(bank - pro,\"원 차이로 1번이 유리하다\")\n",
        "\n"
      ],
      "metadata": {
        "colab": {
          "base_uri": "https://localhost:8080/"
        },
        "id": "ufAFYO1-KQT9",
        "outputId": "c1bf989f-d448-4358-926c-ca0f9c07219a"
      },
      "execution_count": null,
      "outputs": [
        {
          "output_type": "stream",
          "name": "stdout",
          "text": [
            "94193324.33478475 원 차이로 1번이 유리하다\n"
          ]
        }
      ]
    },
    {
      "cell_type": "code",
      "source": [
        "a, b = 1, 1\n",
        "print(a)\n",
        "print(b)\n",
        "for i in range(0, 48):\n",
        "    c = a + b\n",
        "    print(c)\n",
        "    a = b\n",
        "    b = c"
      ],
      "metadata": {
        "id": "E6f13EZENvUt",
        "colab": {
          "base_uri": "https://localhost:8080/"
        },
        "outputId": "e4ab4440-5faf-447c-ed9b-f47dcaf3f59e"
      },
      "execution_count": null,
      "outputs": [
        {
          "output_type": "stream",
          "name": "stdout",
          "text": [
            "1\n",
            "1\n",
            "2\n",
            "3\n",
            "5\n",
            "8\n",
            "13\n",
            "21\n",
            "34\n",
            "55\n",
            "89\n",
            "144\n",
            "233\n",
            "377\n",
            "610\n",
            "987\n",
            "1597\n",
            "2584\n",
            "4181\n",
            "6765\n",
            "10946\n",
            "17711\n",
            "28657\n",
            "46368\n",
            "75025\n",
            "121393\n",
            "196418\n",
            "317811\n",
            "514229\n",
            "832040\n",
            "1346269\n",
            "2178309\n",
            "3524578\n",
            "5702887\n",
            "9227465\n",
            "14930352\n",
            "24157817\n",
            "39088169\n",
            "63245986\n",
            "102334155\n",
            "165580141\n",
            "267914296\n",
            "433494437\n",
            "701408733\n",
            "1134903170\n",
            "1836311903\n",
            "2971215073\n",
            "4807526976\n",
            "7778742049\n",
            "12586269025\n"
          ]
        }
      ]
    },
    {
      "cell_type": "code",
      "source": [
        "#구구단\n",
        "\n",
        "for i in range(2,10):\n",
        "  for j in range(1,10):\n",
        "    print(\"%d X %d = %d\"%(i,j,i*j))"
      ],
      "metadata": {
        "id": "8yqsWZB3NwC8"
      },
      "execution_count": null,
      "outputs": []
    },
    {
      "cell_type": "code",
      "source": [
        "def htoc(a):\n",
        "  return ((a-32)*5)/9\n",
        "\n",
        "C = int(input())\n",
        "F = htoc(C)\n",
        "\n",
        "\n",
        "print(\"%.1f\"%F)"
      ],
      "metadata": {
        "colab": {
          "base_uri": "https://localhost:8080/"
        },
        "id": "uUzGIWuIORJV",
        "outputId": "a9a0e336-12ce-4121-dc43-ee5d23a0a63e"
      },
      "execution_count": null,
      "outputs": [
        {
          "output_type": "stream",
          "name": "stdout",
          "text": [
            "40\n",
            "4.4\n"
          ]
        }
      ]
    },
    {
      "cell_type": "code",
      "source": [
        "import sympy as sp\n",
        "x = sp.Symbol('x')\n",
        "fx = 4*x**4\n",
        "\n",
        "for i in range(1,4):\n",
        "  fprime = sp.diff(fx,x,i)\n",
        "  print(i,\"th differential =\",fprime)\n"
      ],
      "metadata": {
        "colab": {
          "base_uri": "https://localhost:8080/"
        },
        "id": "QPtRj11mPC8F",
        "outputId": "5fa86087-4acb-4140-d838-0ef88aea27b3"
      },
      "execution_count": null,
      "outputs": [
        {
          "output_type": "stream",
          "name": "stdout",
          "text": [
            "1 th differential = 16*x**3\n",
            "2 th differential = 48*x**2\n",
            "3 th differential = 96*x\n"
          ]
        }
      ]
    },
    {
      "cell_type": "markdown",
      "source": [
        "5/20 미적분\n",
        "\n",
        "\n",
        "\n",
        "\n",
        "\n",
        "\n",
        "\n",
        "\n",
        "\n"
      ],
      "metadata": {
        "id": "hUa37PpdZgOo"
      }
    },
    {
      "cell_type": "code",
      "source": [
        "# 적분구간 0,4\n",
        "\n",
        "def f(x):\n",
        "  return (2.0/5.0) * x + 1.0\n",
        "\n",
        "#\n",
        "#dx 구간 길이, 적분구간을 등분하는 간격\n",
        "dx = 0.0001\n",
        "\n",
        "a = 0.0\n",
        "b = 10.0\n",
        "s = 0.0\n",
        "while (a <= b):\n",
        "  ds = dx * f(a) #사각형 넓이\n",
        "  s += ds # 사각형 넓이 합. 즉 최정적인 적분값 저장\n",
        "  a += dx\n",
        "\n",
        "# 소수점 이하 2자리\n",
        "print(\"result={0:.2f}\".format(s))\n"
      ],
      "metadata": {
        "colab": {
          "base_uri": "https://localhost:8080/"
        },
        "id": "W_J6l2QGZlOA",
        "outputId": "8d2eeb47-fd05-42a6-82fe-c6942ce4479f"
      },
      "execution_count": null,
      "outputs": [
        {
          "output_type": "stream",
          "name": "stdout",
          "text": [
            "result=30.00\n"
          ]
        }
      ]
    },
    {
      "cell_type": "code",
      "source": [
        "# 적분함수: f(x)=x^3+7x-2, 적분구간: (0, 4)\n",
        "# 사용자 정의 함수 사용하지 말고 작성\n",
        "\n",
        "dx =0.0001\n",
        "\n",
        "a = 0.0\n",
        "b = 4.0\n",
        "s = 0.0\n",
        "\n",
        "while (a <= b):\n",
        "  fx = a**3+7*a-2\n",
        "  ds = dx * fx\n",
        "  s += ds\n",
        "  a += dx\n",
        "\n",
        "print(\"result={0:.2f}\".format(s))"
      ],
      "metadata": {
        "colab": {
          "base_uri": "https://localhost:8080/"
        },
        "id": "rcfNeo9YcZp4",
        "outputId": "110449c5-9794-4083-f7b6-f4efb534a7f6"
      },
      "execution_count": null,
      "outputs": [
        {
          "output_type": "stream",
          "name": "stdout",
          "text": [
            "result=112.00\n"
          ]
        }
      ]
    },
    {
      "cell_type": "code",
      "source": [
        "import numpy as np\n",
        "numbers = 100000\n",
        "x_lin = np.linspace(2,5,numbers)\n",
        "\n",
        "def f(x):\n",
        "  return 2 * x ** 2 + 3 * x + 4 + np.exp(x)\n",
        "\n",
        "area = 0\n",
        "for i in range(numbers -1 ):\n",
        "  x_1 = x_lin[i]\n",
        "  x_2 = x_lin[i+1]\n",
        "  area += (x_2 - x_1) * f(x_2)\n",
        "\n",
        "print(\"result={0}\".format(area))\n",
        "\n"
      ],
      "metadata": {
        "colab": {
          "base_uri": "https://localhost:8080/"
        },
        "id": "oaNs4NN-fD2I",
        "outputId": "4364bfef-c2b3-4ffe-c9ca-f58d9e852412"
      },
      "execution_count": null,
      "outputs": [
        {
          "output_type": "stream",
          "name": "stdout",
          "text": [
            "result=262.5269834054728\n"
          ]
        }
      ]
    },
    {
      "cell_type": "code",
      "source": [
        "import sympy as sp\n",
        "\n",
        "x = sp.Symbol('x')\n",
        "k = sp.Symbol('k')\n",
        "y = sp.Integral(1+sp.exp(-x), (x,0,1)).doit()\n",
        "print(\"적분결과:{0}\".format(y))"
      ],
      "metadata": {
        "colab": {
          "base_uri": "https://localhost:8080/"
        },
        "id": "-Gky6hi3hgZy",
        "outputId": "d15f86e3-d2d3-4381-d7af-6b599d4307ef"
      },
      "execution_count": null,
      "outputs": [
        {
          "output_type": "stream",
          "name": "stdout",
          "text": [
            "적분결과:2 - exp(-1)\n"
          ]
        }
      ]
    },
    {
      "cell_type": "code",
      "source": [
        "import sympy as sp\n",
        "x = sp.Symbol('x') #x를 변수로 선언\n",
        "\n",
        "f = sp.exp(x**2) + x - 1\n",
        "F = sp.integrate(f,x) # integrate 함수에 (함수, 변수) 형태로 부정적분 계산\n",
        "\n",
        "#x에 대하여 2~5 번위 정적분 계산후 Fx에 적분값 대입\n",
        "Fx = float(F.subs(x,2) - F.subs(x,0))\n",
        "print(\"적분값 {0:.2f}\".format(Fx))"
      ],
      "metadata": {
        "colab": {
          "base_uri": "https://localhost:8080/"
        },
        "id": "R5n8nAbehqAC",
        "outputId": "42e20642-79ea-40b1-8209-23850880a581"
      },
      "execution_count": null,
      "outputs": [
        {
          "output_type": "stream",
          "name": "stdout",
          "text": [
            "적분값 16.45\n"
          ]
        }
      ]
    },
    {
      "cell_type": "code",
      "source": [
        "import numpy as np\n",
        "import scipy.integrate as sci\n",
        "\n",
        "def f(x):\n",
        "  return np.exp(-x)\n",
        "\n",
        "F = sci.quad(f,0,1) # 적분함수, 하한 적분구간, 상한적분구간\n",
        "print(\"적분값={0}\".format(F[0]))\n",
        "print(\"적분값의 오차 = {0}\".format(F[1]))"
      ],
      "metadata": {
        "colab": {
          "base_uri": "https://localhost:8080/"
        },
        "id": "W77Erfs0icYR",
        "outputId": "97689514-d471-44a3-ce1c-43fb686f4520"
      },
      "execution_count": null,
      "outputs": [
        {
          "output_type": "stream",
          "name": "stdout",
          "text": [
            "적분값=0.6321205588285578\n",
            "적분값의 오차 = 7.017947987503856e-15\n"
          ]
        }
      ]
    },
    {
      "cell_type": "code",
      "source": [
        "import numpy as np\n",
        "import scipy.integrate as sci\n",
        "\n",
        "def f(x):\n",
        "  return np.exp(-x)+x\n",
        "\n",
        "F = sci.quad(f,0,np.inf)\n",
        "print(\"적분값={0}\".format(F[0]))\n",
        "print(\"적분값의 오차 = {0}\".format(F[1]))"
      ],
      "metadata": {
        "colab": {
          "base_uri": "https://localhost:8080/"
        },
        "id": "O5y2l8EYjg6m",
        "outputId": "2829cb81-8f96-4c16-b707-f2fe12f1703f"
      },
      "execution_count": null,
      "outputs": [
        {
          "output_type": "stream",
          "name": "stdout",
          "text": [
            "적분값=1.5000000796053596\n",
            "적분값의 오차 = 0.005859831235404345\n"
          ]
        },
        {
          "output_type": "stream",
          "name": "stderr",
          "text": [
            "<ipython-input-33-930f4402a021>:7: IntegrationWarning: The integral is probably divergent, or slowly convergent.\n",
            "  F = sci.quad(f,0,np.inf)\n"
          ]
        }
      ]
    },
    {
      "cell_type": "code",
      "source": [
        "import scipy.intergrte as sci\n",
        "fx = lambda x: x**2\n",
        "lower = 0\n",
        "upper = 1\n",
        "integral = sci.quad(fx,lower,upper)\n",
        "print(\"intergral 함수의 사용\")\n",
        "print(integral)\n",
        "\n",
        "print(\"특이적분 예\")\n",
        "def g(x):\n",
        "  return np.exp(-x)\n"
      ],
      "metadata": {
        "id": "5UqXFrILkYZ2"
      },
      "execution_count": null,
      "outputs": []
    },
    {
      "cell_type": "code",
      "source": [
        "def get_middle_three_chars(str1):\n",
        "  out = list(str1)\n",
        "  return print(out[len(out)//2-1],out[len(out)//2],out[len(out)//2+1])\n",
        "\n",
        "get_middle_three_chars(\"abcdeff\")"
      ],
      "metadata": {
        "colab": {
          "base_uri": "https://localhost:8080/"
        },
        "id": "GgmF6Z8DudQ-",
        "outputId": "712514db-d16a-401f-aba9-a18226b07b6c"
      },
      "execution_count": 7,
      "outputs": [
        {
          "output_type": "stream",
          "name": "stdout",
          "text": [
            "c d e\n"
          ]
        }
      ]
    },
    {
      "cell_type": "code",
      "source": [
        "list = [5,10,15,20,25,50,20]\n",
        "for i in range(len(list)):\n",
        "  if list[i] == 20:\n",
        "    list[i] = 200\n",
        "print(list)"
      ],
      "metadata": {
        "colab": {
          "base_uri": "https://localhost:8080/"
        },
        "id": "q_K-AgeGvQsI",
        "outputId": "842d5b62-e0d2-4b0c-d361-978531b0e841"
      },
      "execution_count": 22,
      "outputs": [
        {
          "output_type": "stream",
          "name": "stdout",
          "text": [
            "[5, 10, 15, 200, 25, 50, 200]\n"
          ]
        }
      ]
    },
    {
      "cell_type": "code",
      "source": [
        "def sum(numbers):\n",
        "  out = 0\n",
        "  for i in range(len(numbers)):\n",
        "    out += numbers[i]\n",
        "  return out\n",
        "print(sum((1,2,3,4)))"
      ],
      "metadata": {
        "colab": {
          "base_uri": "https://localhost:8080/"
        },
        "id": "Prfmbo2nvoia",
        "outputId": "e300a804-20da-4bfa-8b8d-a4a349540c39"
      },
      "execution_count": 24,
      "outputs": [
        {
          "output_type": "stream",
          "name": "stdout",
          "text": [
            "10\n"
          ]
        }
      ]
    },
    {
      "cell_type": "code",
      "source": [
        "def even_num(list):\n",
        "  out = [i for i in list if i%2 ==0]\n",
        "  return out\n",
        "\n",
        "print(even_num([1,2,3,4,5,6,7,8,9]))"
      ],
      "metadata": {
        "colab": {
          "base_uri": "https://localhost:8080/"
        },
        "id": "wL3jCyJM1EaI",
        "outputId": "efdced28-af8a-40d5-b5a9-7c8d0064a785"
      },
      "execution_count": 26,
      "outputs": [
        {
          "output_type": "stream",
          "name": "stdout",
          "text": [
            "[2, 4, 6, 8]\n"
          ]
        }
      ]
    }
  ]
}