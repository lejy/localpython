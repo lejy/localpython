{
  "nbformat": 4,
  "nbformat_minor": 0,
  "metadata": {
    "colab": {
      "provenance": [],
      "mount_file_id": "175Q8VUFsaY5e5u14DcH9G1tPepBdXQPS",
      "authorship_tag": "ABX9TyMnLvWLghRA18HSP7VxrCLc",
      "include_colab_link": true
    },
    "kernelspec": {
      "name": "python3",
      "display_name": "Python 3"
    },
    "language_info": {
      "name": "python"
    }
  },
  "cells": [
    {
      "cell_type": "markdown",
      "metadata": {
        "id": "view-in-github",
        "colab_type": "text"
      },
      "source": [
        "<a href=\"https://colab.research.google.com/github/lejy/localpython/blob/main/%EC%BD%94%ED%85%8C1.ipynb\" target=\"_parent\"><img src=\"https://colab.research.google.com/assets/colab-badge.svg\" alt=\"Open In Colab\"/></a>"
      ]
    },
    {
      "cell_type": "code",
      "execution_count": 31,
      "metadata": {
        "colab": {
          "base_uri": "https://localhost:8080/"
        },
        "id": "7lRiu9F5YaBi",
        "outputId": "ee92e0cc-788b-41d7-feb5-822279152daf"
      },
      "outputs": [
        {
          "output_type": "stream",
          "name": "stdout",
          "text": [
            "8\n",
            "1000\n"
          ]
        }
      ],
      "source": [
        "#10진수 정수 받고 2진수로 변환\n",
        "#조건1)함수 dec2bin(n)을 이용, n은 정수\n",
        "\n",
        "a = int(input())\n",
        "\n",
        "def dec2bin(n):\n",
        "  lista = []\n",
        "  d = 0\n",
        "  while n > 0:\n",
        "    d = n % 2\n",
        "    n = n // 2\n",
        "    lista.append(str(d))\n",
        "  lista.reverse()\n",
        "  print(\"\".join(lista))\n",
        "dec2bin(a)"
      ]
    },
    {
      "cell_type": "code",
      "source": [
        "#직각삼각형 한변의 길이와 빗변의 길이를 실수값으로 사용자 입력받고 나머지 한변의 길이의 제곱값을 출력.\n",
        "#조건 b_square(x,y) 사용\n",
        "\n",
        "x=int(input())\n",
        "y=int(input())\n",
        "\n",
        "def b_square(x,y):\n",
        "  i = 0\n",
        "  i = y**2 - x**2\n",
        "  return i\n",
        "\n",
        "print(b_square(x,y))"
      ],
      "metadata": {
        "colab": {
          "base_uri": "https://localhost:8080/"
        },
        "id": "1F9qxJ6FcnoY",
        "outputId": "f252e03c-e7b8-4fcd-e78f-0b5ddc046fe0"
      },
      "execution_count": 35,
      "outputs": [
        {
          "output_type": "stream",
          "name": "stdout",
          "text": [
            "1\n",
            "2\n",
            "3\n"
          ]
        }
      ]
    },
    {
      "cell_type": "code",
      "source": [
        "# 문자 1개 입력받고 다음 문자 출력.\n",
        "#ord(n) 함수 n의 유니코드 정수값 리턴\n",
        "a = ord(input())\n",
        "print(chr(a+1))"
      ],
      "metadata": {
        "colab": {
          "base_uri": "https://localhost:8080/"
        },
        "id": "cGuz7d6yeGAK",
        "outputId": "0aadbf67-db62-4b5e-d134-8388d30fd633"
      },
      "execution_count": 38,
      "outputs": [
        {
          "output_type": "stream",
          "name": "stdout",
          "text": [
            "a\n",
            "b\n"
          ]
        }
      ]
    },
    {
      "cell_type": "code",
      "source": [
        "#원의 반지름 입력받고 둘레계산\n",
        "#조건1 circle_peri(x)\n",
        "import numpy as np\n",
        "r = float(input())\n",
        "def circle_peri(x):\n",
        "  return 2 * np.pi * x\n",
        "circle_peri(r)"
      ],
      "metadata": {
        "colab": {
          "base_uri": "https://localhost:8080/"
        },
        "id": "O4gJJgW8fDJp",
        "outputId": "21d51dbb-68a1-4005-d024-ed0f4d54b277"
      },
      "execution_count": 40,
      "outputs": [
        {
          "name": "stdout",
          "output_type": "stream",
          "text": [
            "5\n"
          ]
        },
        {
          "output_type": "execute_result",
          "data": {
            "text/plain": [
              "31.41592653589793"
            ]
          },
          "metadata": {},
          "execution_count": 40
        }
      ]
    },
    {
      "cell_type": "code",
      "source": [
        "# 정수2개 받고 a - b 출력\n",
        "x,y = map(int,input().split())\n",
        "def func(x,y):\n",
        "  return x-y\n",
        "print(func(x,y))"
      ],
      "metadata": {
        "colab": {
          "base_uri": "https://localhost:8080/"
        },
        "id": "eiF4sEqmfuIg",
        "outputId": "ea0ae321-891a-48a6-dc29-1bcab9479b77"
      },
      "execution_count": 45,
      "outputs": [
        {
          "output_type": "stream",
          "name": "stdout",
          "text": [
            "123 123\n",
            "0\n"
          ]
        }
      ]
    }
  ]
}